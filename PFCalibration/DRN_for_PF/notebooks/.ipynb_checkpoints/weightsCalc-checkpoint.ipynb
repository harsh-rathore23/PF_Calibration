{
 "cells": [
  {
   "cell_type": "markdown",
   "id": "adverse-catalog",
   "metadata": {},
   "source": [
    "This is the notebook to open and study the fake and real photon eta and energy pickles in order to derive weights\n",
    "\n",
    "Also, I'm running this in the Python 3.7.1 Kernel"
   ]
  },
  {
   "cell_type": "code",
   "execution_count": 1,
   "id": "essential-validity",
   "metadata": {},
   "outputs": [],
   "source": [
    "#import the stuff\n",
    "import pandas as pd #dataframes etc\n",
    "import matplotlib.pyplot as plt #plotting\n",
    "import pickle\n",
    "import numpy as np"
   ]
  },
  {
   "cell_type": "code",
   "execution_count": 2,
   "id": "pursuant-asset",
   "metadata": {},
   "outputs": [],
   "source": [
    "#load the pickles\n",
    "fakeDir = \"/home/rusack/shared/pickles/2018_Gamma_Jet/fakePhotons/\"\n",
    "realDir = \"/home/rusack/shared/pickles/2018_Gamma_Jet/realPhotons/\"\n",
    "\n",
    "fake_eta_pkl = open(fakeDir+\"eta.pickle\",    \"rb\")\n",
    "fake_pt_pkl   = open(fakeDir+\"pt.pickle\", \"rb\")\n",
    "real_eta_pkl = open(realDir+\"eta.pickle\",    \"rb\")\n",
    "real_pt_pkl   = open(realDir+\"pt.pickle\", \"rb\")\n",
    "\n",
    "fake_eta = pickle.load(fake_eta_pkl)\n",
    "fake_pt   = pickle.load(fake_pt_pkl)\n",
    "real_eta = pickle.load(real_eta_pkl)\n",
    "real_pt   = pickle.load(real_pt_pkl)\n"
   ]
  },
  {
   "cell_type": "code",
   "execution_count": 3,
   "id": "equivalent-hearing",
   "metadata": {},
   "outputs": [],
   "source": [
    "binx = 10\n",
    "biny = 10\n",
    "xmin = 0.0\n",
    "xmax = 100.0\n",
    "ymin = -3.0\n",
    "ymax = 3.0\n",
    "\n",
    "x_centers = np.linspace((xmax-xmin)/(binx*2.0) + xmin, xmax - (xmax-xmin)/(binx*2.0), binx)\n",
    "y_centers = np.linspace((ymax-ymin)/(biny*2.0) + ymin, ymax - (ymax-ymin)/(biny*2.0), biny)\n"
   ]
  },
  {
   "cell_type": "code",
   "execution_count": 4,
   "id": "foster-conservation",
   "metadata": {},
   "outputs": [
    {
     "data": {
      "text/plain": [
       "array([ 5., 15., 25., 35., 45., 55., 65., 75., 85., 95.])"
      ]
     },
     "execution_count": 4,
     "metadata": {},
     "output_type": "execute_result"
    }
   ],
   "source": [
    "x_centers"
   ]
  },
  {
   "cell_type": "code",
   "execution_count": 5,
   "id": "blank-cricket",
   "metadata": {},
   "outputs": [
    {
     "data": {
      "image/png": "[encoded data removed]",
      "text/plain": [
       "<Figure size 432x288 with 2 Axes>"
      ]
     },
     "metadata": {
      "needs_background": "light"
     },
     "output_type": "display_data"
    }
   ],
   "source": [
    "fig, ax = plt.subplots()\n",
    "import matplotlib.colors as clrs\n",
    "ax.set_xlabel('Photon pT')\n",
    "ax.set_ylabel('Photon Eta')\n",
    "\n",
    "h_real = ax.hist2d(real_pt, real_eta, bins=[binx, biny], range=[[xmin, xmax], [ymin, ymax]], norm=clrs.LogNorm())\n",
    "fig.colorbar(h_real[3], ax=ax)\n",
    "fig.show()"
   ]
  },
  {
   "cell_type": "code",
   "execution_count": 6,
   "id": "covered-massachusetts",
   "metadata": {},
   "outputs": [
    {
     "data": {
      "image/png": "[encoded data removed]",
      "text/plain": [
       "<Figure size 432x288 with 2 Axes>"
      ]
     },
     "metadata": {
      "needs_background": "light"
     },
     "output_type": "display_data"
    }
   ],
   "source": [
    "fig, ax = plt.subplots()\n",
    "import matplotlib.colors as clrs\n",
    "ax.set_xlabel('Photon pT')\n",
    "ax.set_ylabel('Photon Eta')\n",
    "\n",
    "h_fake = ax.hist2d(fake_pt, fake_eta, bins=[binx, biny], range=[[xmin, xmax], [ymin, ymax]], norm=clrs.LogNorm())\n",
    "fig.colorbar(h_fake[3], ax=ax)\n",
    "fig.show()"
   ]
  },
  {
   "cell_type": "code",
   "execution_count": 7,
   "id": "sought-legend",
   "metadata": {},
   "outputs": [],
   "source": [
    "real_2d = h_real[0] / len(real_eta)\n",
    "real_2d_error = (h_real[0] ** 0.5) / len(real_eta)"
   ]
  },
  {
   "cell_type": "code",
   "execution_count": 8,
   "id": "statewide-bubble",
   "metadata": {},
   "outputs": [],
   "source": [
    "fake_2d = h_fake[0] / len(fake_eta)\n",
    "fake_2d_error = (h_fake[0] ** 0.5) / len(fake_eta)"
   ]
  },
  {
   "cell_type": "code",
   "execution_count": 9,
   "id": "suitable-attribute",
   "metadata": {},
   "outputs": [
    {
     "name": "stderr",
     "output_type": "stream",
     "text": [
      "/home/rusack/evans908/.local/lib/python3.6/site-packages/ipykernel_launcher.py:1: RuntimeWarning: invalid value encountered in true_divide\n",
      "  \"\"\"Entry point for launching an IPython kernel.\n"
     ]
    }
   ],
   "source": [
    "ratio_2d = real_2d / fake_2d"
   ]
  },
  {
   "cell_type": "code",
   "execution_count": 10,
   "id": "adopted-multiple",
   "metadata": {},
   "outputs": [
    {
     "name": "stderr",
     "output_type": "stream",
     "text": [
      "/home/rusack/evans908/.local/lib/python3.6/site-packages/ipykernel_launcher.py:1: RuntimeWarning: invalid value encountered in true_divide\n",
      "  \"\"\"Entry point for launching an IPython kernel.\n"
     ]
    }
   ],
   "source": [
    "ratio_2d_error = ratio_2d * (((real_2d_error)/(real_2d)) + ((fake_2d_error)/(fake_2d))) ** 0.5"
   ]
  },
  {
   "cell_type": "code",
   "execution_count": 11,
   "id": "transsexual-raleigh",
   "metadata": {},
   "outputs": [
    {
     "data": {
      "text/plain": [
       "array([[       nan,        nan,        nan,        nan,        nan,\n",
       "               nan,        nan,        nan,        nan,        nan],\n",
       "       [0.00973888, 0.00638363, 0.00834948, 0.00643664, 0.00560499,\n",
       "        0.00547405, 0.00629733, 0.00864085, 0.00643685, 0.0098402 ],\n",
       "       [0.09115795, 0.09168114, 0.11919736, 0.11248384, 0.10762235,\n",
       "        0.10554676, 0.11074508, 0.12056258, 0.09024026, 0.09488342],\n",
       "       [0.34994295, 0.42950379, 0.57074389, 0.54289697, 0.51712365,\n",
       "        0.50601347, 0.53839049, 0.57070094, 0.41797083, 0.37084705],\n",
       "       [0.55560801, 1.17725687, 1.40193597, 1.21326381, 1.13368373,\n",
       "        1.12103978, 1.18325968, 1.37728057, 1.10888759, 0.60802074],\n",
       "       [0.32832528, 1.91297325, 2.1114506 , 1.69561036, 1.53124666,\n",
       "        1.50456324, 1.58329506, 2.14074548, 1.86063111, 0.33687587],\n",
       "       [0.07991148, 1.97394091, 2.5657501 , 2.13758532, 1.86807107,\n",
       "        1.67493136, 1.98009041, 2.51394669, 2.05802902, 0.08805308],\n",
       "       [0.05084246, 1.56703463, 2.64578367, 2.11241572, 1.78031594,\n",
       "        1.88691132, 2.07586346, 2.56941892, 1.49948028, 0.0705218 ],\n",
       "       [       nan, 0.99305223, 2.28677846, 1.82838666, 1.70753249,\n",
       "        1.67425269, 1.88993749, 2.05932162, 1.03778542,        nan],\n",
       "       [       nan, 0.21635817, 1.23978223, 1.35710226, 1.43189982,\n",
       "        1.19186189, 1.24723217, 1.99254067, 0.28553457,        nan]])"
      ]
     },
     "execution_count": 11,
     "metadata": {},
     "output_type": "execute_result"
    }
   ],
   "source": [
    "ratio_2d_error"
   ]
  },
  {
   "cell_type": "code",
   "execution_count": 12,
   "id": "cooked-election",
   "metadata": {},
   "outputs": [
    {
     "data": {
      "image/png": "[encoded data removed]",
      "text/plain": [
       "<Figure size 432x288 with 2 Axes>"
      ]
     },
     "metadata": {
      "needs_background": "light"
     },
     "output_type": "display_data"
    }
   ],
   "source": [
    "fig, ax = plt.subplots()\n",
    "ax.set_title('Relative Ratio')\n",
    "ax.set_xlabel('Photon pT')\n",
    "ax.set_ylabel('Photon Eta')\n",
    "pc = ax.pcolorfast(h_real[1], h_real[2], ratio_2d.T)\n",
    "fig.colorbar(pc, ax=ax)\n",
    "fig.show()"
   ]
  },
  {
   "cell_type": "code",
   "execution_count": 13,
   "id": "chicken-blond",
   "metadata": {},
   "outputs": [
    {
     "name": "stderr",
     "output_type": "stream",
     "text": [
      "/home/rusack/evans908/.local/lib/python3.6/site-packages/ipykernel_launcher.py:5: RuntimeWarning: invalid value encountered in true_divide\n",
      "  \"\"\"\n"
     ]
    },
    {
     "data": {
      "image/png": "[encoded data removed]",
      "text/plain": [
       "<Figure size 432x288 with 2 Axes>"
      ]
     },
     "metadata": {
      "needs_background": "light"
     },
     "output_type": "display_data"
    }
   ],
   "source": [
    "fig, ax = plt.subplots()\n",
    "ax.set_title('Absolute Ratio')\n",
    "ax.set_xlabel('Photon pT')\n",
    "ax.set_ylabel('Photon Eta')\n",
    "pc = ax.pcolorfast(h_real[1], h_real[2], (h_real[0]/h_fake[0]).T)\n",
    "fig.colorbar(pc, ax=ax)\n",
    "fig.show()"
   ]
  },
  {
   "cell_type": "code",
   "execution_count": 14,
   "id": "difficult-delight",
   "metadata": {},
   "outputs": [],
   "source": [
    "ratio_2d_clean = np.nan_to_num(ratio_2d, copy=False, nan=0.0)"
   ]
  },
  {
   "cell_type": "code",
   "execution_count": 15,
   "id": "overhead-coaching",
   "metadata": {},
   "outputs": [
    {
     "name": "stderr",
     "output_type": "stream",
     "text": [
      "/home/rusack/evans908/.local/lib/python3.6/site-packages/ipykernel_launcher.py:9: RuntimeWarning: invalid value encountered in true_divide\n",
      "  if __name__ == '__main__':\n",
      "/home/rusack/evans908/.local/lib/python3.6/site-packages/ipykernel_launcher.py:10: RuntimeWarning: invalid value encountered in true_divide\n",
      "  # Remove the CWD from sys.path while we load stuff.\n"
     ]
    },
    {
     "data": {
      "text/plain": [
       "array([       nan, 0.0049325 , 0.12300541, 0.51461901, 0.93493272,\n",
       "       1.0168198 , 0.90251302, 0.66948322, 0.41953082, 0.21207178])"
      ]
     },
     "execution_count": 15,
     "metadata": {},
     "output_type": "execute_result"
    }
   ],
   "source": [
    "#take average over each axis\n",
    "#this returns a sum along the eta (y) axis\n",
    "pt_real = np.sum(h_real[0], axis=1)\n",
    "pt_fake = np.sum(h_fake[0], axis=1)\n",
    "\n",
    "pt_real_error = pt_real ** 0.5\n",
    "pt_fake_error = pt_fake ** 0.5\n",
    "\n",
    "pt_ratio = pt_real / pt_fake\n",
    "pt_ratio_error = pt_ratio * (((pt_real_error)/(pt_real)) + ((pt_fake_error)/(pt_fake))) ** 0.5\n",
    "\n",
    "pt_ratio"
   ]
  },
  {
   "cell_type": "code",
   "execution_count": 16,
   "id": "hollywood-horizon",
   "metadata": {},
   "outputs": [
    {
     "data": {
      "text/plain": [
       "array([0.08178751, 0.10761822, 0.11643849, 0.11015245, 0.1053873 ,\n",
       "       0.10538767, 0.11040242, 0.11697857, 0.10766431, 0.08260276])"
      ]
     },
     "execution_count": 16,
     "metadata": {},
     "output_type": "execute_result"
    }
   ],
   "source": [
    "#take average over each axis\n",
    "#this returns a sum along the pt (y) axis\n",
    "eta_real = np.sum(h_real[0], axis=0)\n",
    "eta_fake = np.sum(h_fake[0], axis=0)\n",
    "\n",
    "eta_real_error = eta_real ** 0.5\n",
    "eta_fake_error = eta_fake ** 0.5\n",
    "\n",
    "eta_ratio = eta_real / eta_fake\n",
    "eta_ratio_error = eta_ratio * (((eta_real_error)/(eta_real)) + ((eta_fake_error)/(eta_fake))) ** 0.5\n",
    "\n",
    "eta_ratio"
   ]
  },
  {
   "cell_type": "code",
   "execution_count": 17,
   "id": "durable-impossible",
   "metadata": {},
   "outputs": [
    {
     "data": {
      "image/png": "[encoded data removed]",
      "text/plain": [
       "<Figure size 432x288 with 1 Axes>"
      ]
     },
     "metadata": {
      "needs_background": "light"
     },
     "output_type": "display_data"
    }
   ],
   "source": [
    "fig, ax = plt.subplots()\n",
    "ax.set_title(\"Absolute Ratio\")\n",
    "ax.set_xlabel('Photon pT')\n",
    "ax.set_ylabel('Real / Fake')\n",
    "ax.errorbar(x_centers, pt_ratio, yerr=pt_ratio_error, xerr=((xmax-xmin)/(binx*2)), ecolor=\"red\")\n",
    "\n",
    "fig.show()"
   ]
  },
  {
   "cell_type": "code",
   "execution_count": 18,
   "id": "needed-collar",
   "metadata": {},
   "outputs": [
    {
     "data": {
      "image/png": "[encoded data removed]",
      "text/plain": [
       "<Figure size 432x288 with 1 Axes>"
      ]
     },
     "metadata": {
      "needs_background": "light"
     },
     "output_type": "display_data"
    }
   ],
   "source": [
    "fig, ax = plt.subplots()\n",
    "ax.set_title(\"Absolute Ratio\")\n",
    "ax.set_xlabel('Photon Eta')\n",
    "ax.set_ylabel('Real / Fake')\n",
    "ax.errorbar(y_centers, eta_ratio, yerr=eta_ratio_error, xerr=((ymax-ymin)/(biny*2)), ecolor=\"red\")\n",
    "\n",
    "fig.show()"
   ]
  },
  {
   "cell_type": "code",
   "execution_count": null,
   "id": "religious-trance",
   "metadata": {},
   "outputs": [],
   "source": []
  },
  {
   "cell_type": "code",
   "execution_count": null,
   "id": "renewable-jamaica",
   "metadata": {},
   "outputs": [],
   "source": []
  },
  {
   "cell_type": "code",
   "execution_count": null,
   "id": "broad-kinase",
   "metadata": {},
   "outputs": [],
   "source": []
  },
  {
   "cell_type": "code",
   "execution_count": null,
   "id": "alpha-association",
   "metadata": {},
   "outputs": [],
   "source": []
  }
 ],
 "metadata": {
  "kernelspec": {
   "display_name": "Python3.6.3",
   "language": "python",
   "name": "python3.6.3"
  },
  "language_info": {
   "codemirror_mode": {
    "name": "ipython",
    "version": 3
   },
   "file_extension": ".py",
   "mimetype": "text/x-python",
   "name": "python",
   "nbconvert_exporter": "python",
   "pygments_lexer": "ipython3",
   "version": "3.6.3"
  }
 },
 "nbformat": 4,
 "nbformat_minor": 5
}
