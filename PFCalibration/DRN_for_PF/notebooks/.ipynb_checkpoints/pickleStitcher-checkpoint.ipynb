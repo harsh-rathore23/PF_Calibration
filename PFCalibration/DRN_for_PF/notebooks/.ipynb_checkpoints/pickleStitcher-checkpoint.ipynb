{
 "cells": [
  {
   "cell_type": "markdown",
   "id": "weird-circle",
   "metadata": {},
   "source": [
    "This is the notebook to open and study the fake and real photon eta and energy pickles in order to derive weights\n",
    "\n",
    "Also, I'm running this in the Python 3.6.3 Kernel"
   ]
  },
  {
   "cell_type": "code",
   "execution_count": 16,
   "id": "loved-banana",
   "metadata": {},
   "outputs": [],
   "source": [
    "#import the stuff\n",
    "import pandas as pd #dataframes etc\n",
    "import matplotlib.pyplot as plt #plotting\n",
    "import pickle\n",
    "import numpy as np\n",
    "import os, sys"
   ]
  },
  {
   "cell_type": "code",
   "execution_count": 17,
   "id": "toxic-suggestion",
   "metadata": {},
   "outputs": [],
   "source": [
    "#list the pickles\n",
    "fakeDir = \"/home/rusack/shared/pickles/2018_Gamma_Jet/fakePhotons/\"\n",
    "realDir = \"/home/rusack/shared/pickles/2018_Gamma_Jet/realPhotons/\"\n",
    "combDir = \"/home/rusack/shared/pickles/2018_Gamma_Jet/combPhotons/\"\n",
    "\n",
    "fakePickles = os.listdir(fakeDir)\n",
    "realPickles = os.listdir(realDir)"
   ]
  },
  {
   "cell_type": "code",
   "execution_count": 34,
   "id": "respiratory-imaging",
   "metadata": {},
   "outputs": [
    {
     "name": "stdout",
     "output_type": "stream",
     "text": [
      "eta.pickle:\n",
      "opening...extracting...combining...dumping\n",
      "phi.pickle:\n",
      "opening...extracting...combining...dumping\n",
      "energy.pickle:\n",
      "opening...extracting...combining...dumping\n",
      "Pho_SCRawE.pickle:\n",
      "opening...extracting...combining...dumping\n",
      "Hit_X.pickle:\n",
      "opening...extracting...combining...dumping\n",
      "Hit_Y.pickle:\n",
      "opening...extracting...combining...dumping\n",
      "Hit_Z.pickle:\n",
      "opening...extracting...combining...dumping\n",
      "Hit_ES_X.pickle:\n",
      "opening...extracting...combining...dumping\n",
      "Hit_ES_Y.pickle:\n",
      "opening...extracting...combining...dumping\n",
      "Hit_ES_Z.pickle:\n",
      "opening...extracting...combining...dumping\n",
      "RecHitEn.pickle:\n",
      "opening...extracting...combining...dumping\n",
      "RecHitFrac.pickle:\n",
      "opening...extracting...combining...dumping\n",
      "ES_RecHitEn.pickle:\n",
      "opening...extracting...combining...dumping\n",
      "subdet.pickle:\n",
      "opening...extracting...combining...dumping\n",
      "pt.pickle:\n",
      "opening...extracting...combining...dumping\n"
     ]
    }
   ],
   "source": [
    "#every fake pickle has a real counterpart\n",
    "for ipickle in fakePickles:\n",
    "    print(ipickle+\":\")\n",
    "    print(\"opening...\",end='')\n",
    "    fakePickle = open(fakeDir+ipickle, \"rb\")\n",
    "    realPickle = open(realDir+ipickle, \"rb\")\n",
    "    #extract arrays\n",
    "    print(\"extracting...\",end='')\n",
    "    fakeArray = pickle.load(fakePickle)\n",
    "    realArray = pickle.load(realPickle)\n",
    "    #make combined array\n",
    "    print(\"combining...\",end='')\n",
    "    combArray = np.concatenate((fakeArray,realArray))\n",
    "    #pickle combined array\n",
    "    print(\"dumping\")\n",
    "    pickle.dump(combArray, open(combDir+ipickle, \"wb\"))"
   ]
  },
  {
   "cell_type": "code",
   "execution_count": 44,
   "id": "clean-polymer",
   "metadata": {},
   "outputs": [
    {
     "name": "stdout",
     "output_type": "stream",
     "text": [
      "=================================\n",
      "counting...  19664 fakes 1794 reals\n",
      "...dumping...\n"
     ]
    }
   ],
   "source": [
    "#now we count and make the label pickle\n",
    "print(\"=================================\")\n",
    "print(\"counting...  \",end=\"\")\n",
    "print(len(fakeArray),\"fakes\", len(realArray),\"reals\")\n",
    "fakeArray = np.zeros(len(fakeArray))\n",
    "realArray = np.ones(len(realArray))\n",
    "\n",
    "combArray = np.concatenate((fakeArray, realArray))\n",
    "print(\"...dumping...\")\n",
    "\n",
    "pickle.dump(combArray, open(combDir+\"labels.pickle\", \"wb\"))"
   ]
  },
  {
   "cell_type": "code",
   "execution_count": null,
   "id": "downtown-growing",
   "metadata": {},
   "outputs": [],
   "source": []
  }
 ],
 "metadata": {
  "kernelspec": {
   "display_name": "Python3.6.3",
   "language": "python",
   "name": "python3.6.3"
  },
  "language_info": {
   "codemirror_mode": {
    "name": "ipython",
    "version": 3
   },
   "file_extension": ".py",
   "mimetype": "text/x-python",
   "name": "python",
   "nbconvert_exporter": "python",
   "pygments_lexer": "ipython3",
   "version": "3.6.3"
  }
 },
 "nbformat": 4,
 "nbformat_minor": 5
}
